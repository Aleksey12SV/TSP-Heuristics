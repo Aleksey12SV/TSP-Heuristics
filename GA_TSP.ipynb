{
  "nbformat": 4,
  "nbformat_minor": 0,
  "metadata": {
    "colab": {
      "provenance": []
    },
    "kernelspec": {
      "name": "python3",
      "display_name": "Python 3"
    },
    "language_info": {
      "name": "python"
    }
  },
  "cells": [
    {
      "cell_type": "markdown",
      "metadata": {
        "id": "_tOb-WXCl4lI"
      },
      "source": [
        "# Traveling Salesman problem with Genetic algorithm\n",
        "\n",
        "Code by: Eric Stoltz\n",
        "\n",
        "Reference: https://towardsdatascience.com/evolution-of-a-salesman-a-complete-genetic-algorithm-tutorial-for-python-6fe5d2b3ca35\n",
        "\n",
        "Stand: 24.10.2021"
      ]
    },
    {
      "cell_type": "markdown",
      "metadata": {
        "id": "HIl1xBeYmMe3"
      },
      "source": [
        "The following notebook contains an example solution of the TSP by using a genetic algorithm.\n",
        "\n",
        "### Import the Python modules needed for the solution."
      ]
    },
    {
      "cell_type": "code",
      "metadata": {
        "id": "QvkLnuYqlzT_"
      },
      "source": [
        "import numpy as np, random, operator\n",
        "import pandas as pd\n",
        "import matplotlib.pyplot as plt"
      ],
      "execution_count": 40,
      "outputs": []
    },
    {
      "cell_type": "markdown",
      "metadata": {
        "id": "XeqVk-lNnY8c"
      },
      "source": [
        "### Destinations\n",
        "\n",
        "Create a City class where each city is a destination we wish to visit. The class contains the (x,y) coordinates of the city, as well as the distance between each pair of cities."
      ]
    },
    {
      "cell_type": "code",
      "metadata": {
        "id": "vN9746dNnGJC"
      },
      "source": [
        "class City:\n",
        "    def __init__(self, x, y):\n",
        "        self.x = x\n",
        "        self.y = y\n",
        "\n",
        "    def distance(self, city):\n",
        "        xDis = abs(self.x - city.x)\n",
        "        yDis = abs(self.y - city.y)\n",
        "        distance = np.sqrt((xDis ** 2) + (yDis ** 2))\n",
        "        return distance\n",
        "\n",
        "    def __repr__(self):\n",
        "        return \"(\" + str(self.x) + \", \" + str(self.y) + \")\""
      ],
      "execution_count": 41,
      "outputs": []
    },
    {
      "cell_type": "markdown",
      "metadata": {
        "id": "v9rnW4Ncor3Q"
      },
      "source": [
        "### Create a path going through all destinations\n",
        "\n",
        "In this line of code we create one sample route that goes through all destinations."
      ]
    },
    {
      "cell_type": "code",
      "metadata": {
        "id": "nFK_kUHaoXdu"
      },
      "source": [
        "def createRoute(cityList):\n",
        "    route = random.sample(cityList, len(cityList))\n",
        "    return route"
      ],
      "execution_count": 42,
      "outputs": []
    },
    {
      "cell_type": "markdown",
      "metadata": {
        "id": "a9kZAl5WpEZn"
      },
      "source": [
        "### Create an initial population\n",
        "\n",
        "The initial population is a subset of sample paths. In this line of code we create multiple sample paths and save them in the initial population."
      ]
    },
    {
      "cell_type": "code",
      "metadata": {
        "id": "lrGpoLRIpB0h"
      },
      "source": [
        "def initialPopulation(popSize, cityList):\n",
        "    population = []\n",
        "\n",
        "    for i in range(0, popSize):\n",
        "        population.append(createRoute(cityList))\n",
        "    return population"
      ],
      "execution_count": 43,
      "outputs": []
    },
    {
      "cell_type": "markdown",
      "metadata": {
        "id": "Q_hMw3q8pX6x"
      },
      "source": [
        "### Create a fitness function\n",
        "\n",
        "First create a class *fitness* where we calculate the fitness value of each route. The fitness value is the inverse of the route cost (as mentioned in *EA Lab 2.pdf*). In this function we take into account that the route starts and ends at the same node of the graph."
      ]
    },
    {
      "cell_type": "code",
      "metadata": {
        "id": "YL7WFpKOpVKO"
      },
      "source": [
        "class Fitness:\n",
        "    def __init__(self, route):\n",
        "        self.route = route\n",
        "        self.distance = 0\n",
        "        self.fitness= 0.0\n",
        "\n",
        "    def routeDistance(self):\n",
        "        if self.distance ==0:\n",
        "            pathDistance = 0\n",
        "            for i in range(0, len(self.route)):\n",
        "                fromCity = self.route[i]\n",
        "                toCity = None\n",
        "                if i + 1 < len(self.route):\n",
        "                    toCity = self.route[i + 1]\n",
        "                else:\n",
        "                    toCity = self.route[0]\n",
        "                pathDistance += fromCity.distance(toCity)\n",
        "            self.distance = pathDistance\n",
        "        return self.distance\n",
        "\n",
        "    def routeFitness(self):\n",
        "        if self.fitness == 0:\n",
        "            self.fitness = 1 / float(self.routeDistance())\n",
        "        return self.fitness"
      ],
      "execution_count": 44,
      "outputs": []
    },
    {
      "cell_type": "markdown",
      "metadata": {
        "id": "U44xUTPDrYMB"
      },
      "source": [
        "### Determine fitness of each gene in the population"
      ]
    },
    {
      "cell_type": "code",
      "metadata": {
        "id": "iFdk_hxVq8_4"
      },
      "source": [
        "def rankRoutes(population):\n",
        "    fitnessResults = {}\n",
        "    for i in range(0,len(population)):\n",
        "        fitnessResults[i] = Fitness(population[i]).routeFitness()\n",
        "    return sorted(fitnessResults.items(), key = operator.itemgetter(1), reverse = True)"
      ],
      "execution_count": 45,
      "outputs": []
    },
    {
      "cell_type": "markdown",
      "metadata": {
        "id": "a6COBnQKrxgt"
      },
      "source": [
        "### Selection\n",
        "\n",
        "We select the paths with highest fitness values to be the parents of the next generation. The selected genes are saved in the mating pool."
      ]
    },
    {
      "cell_type": "code",
      "metadata": {
        "id": "L66KDNEorsvU"
      },
      "source": [
        "def selection(popRanked, eliteSize):\n",
        "    selectionResults = []\n",
        "    df = pd.DataFrame(np.array(popRanked), columns=[\"Index\",\"Fitness\"])\n",
        "    df['cum_sum'] = df.Fitness.cumsum()\n",
        "    df['cum_perc'] = 100*df.cum_sum/df.Fitness.sum()\n",
        "\n",
        "    for i in range(0, eliteSize):\n",
        "        selectionResults.append(popRanked[i][0])\n",
        "    for i in range(0, len(popRanked) - eliteSize):\n",
        "        pick = 100*random.random()\n",
        "        for i in range(0, len(popRanked)):\n",
        "            if pick <= df.iat[i,3]:\n",
        "                selectionResults.append(popRanked[i][0])\n",
        "                break\n",
        "    return selectionResults"
      ],
      "execution_count": 46,
      "outputs": []
    },
    {
      "cell_type": "code",
      "metadata": {
        "id": "9HIrqEbVsMHG"
      },
      "source": [
        "def matingPool(population, selectionResults):\n",
        "    matingpool = []\n",
        "    for i in range(0, len(selectionResults)):\n",
        "        index = selectionResults[i]\n",
        "        matingpool.append(population[index])\n",
        "    return matingpool"
      ],
      "execution_count": 47,
      "outputs": []
    },
    {
      "cell_type": "markdown",
      "metadata": {
        "id": "53RAI0XVsBsu"
      },
      "source": [
        "### Ordered Crossover\n",
        "\n",
        "In the first function we define the ordered crossover. In the second function we peform crossover on the population."
      ]
    },
    {
      "cell_type": "code",
      "metadata": {
        "id": "gC-U0KUMyQxC"
      },
      "source": [
        "def breed(parent1, parent2):\n",
        "    child = []\n",
        "    childP1 = []\n",
        "    childP2 = []\n",
        "\n",
        "    geneA = int(random.random() * len(parent1))\n",
        "    geneB = int(random.random() * len(parent1))\n",
        "\n",
        "    startGene = min(geneA, geneB)\n",
        "    endGene = max(geneA, geneB)\n",
        "\n",
        "    for i in range(startGene, endGene):\n",
        "        childP1.append(parent1[i])\n",
        "\n",
        "    childP2 = [item for item in parent2 if item not in childP1]\n",
        "\n",
        "    child = childP1 + childP2\n",
        "    return child"
      ],
      "execution_count": 48,
      "outputs": []
    },
    {
      "cell_type": "code",
      "metadata": {
        "id": "jIyrvrilsA36"
      },
      "source": [
        "def breedPopulation(matingpool, eliteSize):\n",
        "    children = []\n",
        "    length = len(matingpool) - eliteSize\n",
        "    pool = random.sample(matingpool, len(matingpool))\n",
        "\n",
        "    for i in range(0,eliteSize):\n",
        "        children.append(matingpool[i])\n",
        "\n",
        "    for i in range(0, length):\n",
        "        child = breed(pool[i], pool[len(matingpool)-i-1])\n",
        "        children.append(child)\n",
        "    return children"
      ],
      "execution_count": 49,
      "outputs": []
    },
    {
      "cell_type": "markdown",
      "metadata": {
        "id": "yKOMnlKvsiWl"
      },
      "source": [
        "### Mutation\n",
        "\n",
        "In the first function we define the mutation process. In the second function we run mutation through the population."
      ]
    },
    {
      "cell_type": "code",
      "metadata": {
        "id": "RaY3NK43seWD"
      },
      "source": [
        "def mutate(individual, mutationRate):\n",
        "    for swapped in range(len(individual)):\n",
        "        if(random.random() < mutationRate):\n",
        "            swapWith = int(random.random() * len(individual))\n",
        "\n",
        "            city1 = individual[swapped]\n",
        "            city2 = individual[swapWith]\n",
        "\n",
        "            individual[swapped] = city2\n",
        "            individual[swapWith] = city1\n",
        "    return individual"
      ],
      "execution_count": 50,
      "outputs": []
    },
    {
      "cell_type": "code",
      "metadata": {
        "id": "SLWi4RuItCeG"
      },
      "source": [
        "def mutatePopulation(population, mutationRate):\n",
        "    mutatedPop = []\n",
        "\n",
        "    for ind in range(0, len(population)):\n",
        "        mutatedInd = mutate(population[ind], mutationRate)\n",
        "        mutatedPop.append(mutatedInd)\n",
        "    return mutatedPop"
      ],
      "execution_count": 51,
      "outputs": []
    },
    {
      "cell_type": "markdown",
      "metadata": {
        "id": "3OIV2csgsuab"
      },
      "source": [
        "### Create new generation"
      ]
    },
    {
      "cell_type": "code",
      "metadata": {
        "id": "sjx-zf7CstsE"
      },
      "source": [
        "def nextGeneration(currentGen, eliteSize, mutationRate):\n",
        "    popRanked = rankRoutes(currentGen)\n",
        "    selectionResults = selection(popRanked, eliteSize)\n",
        "    matingpool = matingPool(currentGen, selectionResults)\n",
        "    children = breedPopulation(matingpool, eliteSize)\n",
        "    nextGeneration = mutatePopulation(children, mutationRate)\n",
        "    return nextGeneration"
      ],
      "execution_count": 52,
      "outputs": []
    },
    {
      "cell_type": "markdown",
      "metadata": {
        "id": "9I6jIlFgta4z"
      },
      "source": [
        "### The Genetic algorithm"
      ]
    },
    {
      "cell_type": "code",
      "metadata": {
        "id": "P9PQl1QAtZ6n"
      },
      "source": [
        "def geneticAlgorithm(population, popSize, eliteSize, mutationRate, generations):\n",
        "    pop = initialPopulation(popSize, population)\n",
        "    print(\"Initial distance: \" + str(1 / rankRoutes(pop)[0][1]))\n",
        "\n",
        "    for i in range(0, generations):\n",
        "        pop = nextGeneration(pop, eliteSize, mutationRate)\n",
        "\n",
        "    print(\"Final distance: \" + str(1 / rankRoutes(pop)[0][1]))\n",
        "    bestRouteIndex = rankRoutes(pop)[0][0]\n",
        "    bestRoute = pop[bestRouteIndex]\n",
        "\n",
        "    return bestRoute"
      ],
      "execution_count": 53,
      "outputs": []
    },
    {
      "cell_type": "markdown",
      "metadata": {
        "id": "LL7fghhotmNO"
      },
      "source": [
        "### Create a list of destinations and run the GA"
      ]
    },
    {
      "cell_type": "code",
      "source": [
        "def plot(points, path: list):\n",
        "    x = []\n",
        "    y = []\n",
        "    for point in points:\n",
        "        x.append(point[0])\n",
        "        y.append(point[1])\n",
        "    plt.plot(x, y, 'co')\n",
        "    for i in range (0, len(path)):\n",
        "        plt.annotate(i, (x[i], y[i]))\n",
        "\n",
        "    for _ in range(1, len(path)):\n",
        "        i = path[_ - 1]\n",
        "        j = path[_]\n",
        "\n",
        "        plt.arrow(x[i], y[i], x[j] - x[i], y[j] - y[i], color='r', length_includes_head=True)\n",
        "\n",
        "    plt.show()"
      ],
      "metadata": {
        "id": "JIL5dADcfABi"
      },
      "execution_count": 54,
      "outputs": []
    },
    {
      "cell_type": "code",
      "metadata": {
        "id": "S6nnmU9xtk1F",
        "colab": {
          "base_uri": "https://localhost:8080/"
        },
        "outputId": "4d9cb136-1041-4788-cb36-6927f894a6bb"
      },
      "source": [
        "cityList = []\n",
        "cities = []\n",
        "points = []\n",
        "with open('./chn31.txt') as f:\n",
        "    for line in f.readlines():\n",
        "        city = line.split(' ')\n",
        "        cities.append((int(city[0]), int(city[1]), int(city[2])))\n",
        "        points.append((int(city[1]), int(city[2])))\n",
        "\n",
        "# Convert values to City objects and select all entries\n",
        "cityList = [City(int(p[0]),int(p[1])) for p in points]\n",
        "print(cityList)"
      ],
      "execution_count": 55,
      "outputs": [
        {
          "output_type": "stream",
          "name": "stdout",
          "text": [
            "[(1304, 2312), (3639, 1315), (4177, 2244), (3712, 1399), (3488, 1535), (3326, 1556), (3238, 1229), (4196, 1004), (4312, 790), (4386, 570), (3007, 1970), (2562, 1756), (2788, 1491), (2381, 1676), (1332, 695), (3715, 1678), (3918, 2179), (4061, 2370), (3780, 2212), (3676, 2578), (4029, 2838), (4263, 2931), (3429, 1908), (3507, 2367), (3394, 2643), (3439, 3201), (2935, 3240), (3140, 3550), (2545, 2357), (2778, 2826), (2370, 2975)]\n"
          ]
        }
      ]
    },
    {
      "cell_type": "code",
      "metadata": {
        "colab": {
          "base_uri": "https://localhost:8080/",
          "height": 482
        },
        "id": "EbGKDoVjuEcH",
        "outputId": "b079df79-5dbe-4077-aa73-708dfefaed3f"
      },
      "source": [
        "endPath = geneticAlgorithm(population=cityList, popSize=31, eliteSize=5, mutationRate=0, generations=100)\n",
        "citiesArray = [(city.x, city.y) for city in endPath]\n",
        "coordinate_to_index = {(int(val[1]), int(val[2])): int(val[0]) for val in cities}\n",
        "route_indexes = [coordinate_to_index[coordinate]-1 for coordinate in citiesArray]\n",
        "print(route_indexes)\n",
        "\n",
        "plot(points, route_indexes)"
      ],
      "execution_count": 56,
      "outputs": [
        {
          "output_type": "stream",
          "name": "stdout",
          "text": [
            "Initial distance: 37246.92630139528\n",
            "Final distance: 19790.860536120126\n",
            "[12, 6, 4, 5, 15, 7, 9, 8, 1, 3, 22, 16, 17, 2, 21, 20, 24, 25, 28, 10, 29, 30, 26, 27, 18, 19, 23, 0, 14, 13, 11]\n"
          ]
        },
        {
          "output_type": "display_data",
          "data": {
            "text/plain": [
              "<Figure size 640x480 with 1 Axes>"
            ],
            "image/png": "[encoded data removed]"
          },
          "metadata": {}
        }
      ]
    },
    {
      "cell_type": "markdown",
      "metadata": {
        "id": "eCAVGQnE34wn"
      },
      "source": [
        "Note:\n",
        "\n",
        "The *initial population size* parameter is stored in *popSize* variable.\n",
        "\n",
        "The *number of generations* parameter is stored in *generations* variable.\n",
        "\n",
        "The *mutation rate* parameter is stored in *mutationRate* variable."
      ]
    },
    {
      "cell_type": "markdown",
      "metadata": {
        "id": "ps79N1pO2_Yp"
      },
      "source": [
        "### Visualize the Genetic algorithm performance"
      ]
    },
    {
      "cell_type": "code",
      "metadata": {
        "id": "EIPHUTV93FKO"
      },
      "source": [
        "def geneticAlgorithmPlot(population, popSize, eliteSize, mutationRate, generations):\n",
        "    pop = initialPopulation(popSize, population)\n",
        "    progress = []\n",
        "    progress.append(1 / rankRoutes(pop)[0][1])\n",
        "\n",
        "    for i in range(0, generations):\n",
        "        pop = nextGeneration(pop, eliteSize, mutationRate)\n",
        "        progress.append(1 / rankRoutes(pop)[0][1])\n",
        "\n",
        "    plt.plot(progress)\n",
        "    plt.ylabel('Distance')\n",
        "    plt.xlabel('Generation')\n",
        "    plt.show()"
      ],
      "execution_count": 57,
      "outputs": []
    },
    {
      "cell_type": "code",
      "metadata": {
        "colab": {
          "base_uri": "https://localhost:8080/",
          "height": 453
        },
        "id": "Y5ajuYlO3Naw",
        "outputId": "c2573c80-c6a8-4a54-c8bb-e61ba4cce3da"
      },
      "source": [
        "geneticAlgorithmPlot(population=cityList, popSize=31, eliteSize=5, mutationRate=0.01, generations=200)"
      ],
      "execution_count": 58,
      "outputs": [
        {
          "output_type": "display_data",
          "data": {
            "text/plain": [
              "<Figure size 640x480 with 1 Axes>"
            ],
            "image/png": "[encoded data removed]"
          },
          "metadata": {}
        }
      ]
    },
    {
      "cell_type": "markdown",
      "metadata": {
        "id": "I0Gwdrsy4wJ2"
      },
      "source": [
        "Note: When changing the parameter *popSize*, remeber to change the value of *eliteSize* as well. Elite size is a subset of the population size."
      ]
    }
  ]
}