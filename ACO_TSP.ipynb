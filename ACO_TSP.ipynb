{
  "nbformat": 4,
  "nbformat_minor": 0,
  "metadata": {
    "colab": {
      "provenance": []
    },
    "kernelspec": {
      "name": "python3",
      "display_name": "Python 3"
    },
    "language_info": {
      "name": "python"
    }
  },
  "cells": [
    {
      "cell_type": "markdown",
      "source": [
        "Import the Python modules needed for the solution."
      ],
      "metadata": {
        "id": "AkZworon4GHq"
      }
    },
    {
      "cell_type": "code",
      "source": [
        "import random\n",
        "import math\n",
        "import matplotlib.pyplot as plt"
      ],
      "metadata": {
        "id": "4XNnVBC_Jyq5"
      },
      "execution_count": 17,
      "outputs": []
    },
    {
      "cell_type": "markdown",
      "source": [
        "Define constants to be used."
      ],
      "metadata": {
        "id": "_63Qv_zmLgQD"
      }
    },
    {
      "cell_type": "code",
      "source": [
        "INITIAL_PHEROMONE_VALUE = 0.0001"
      ],
      "metadata": {
        "id": "rKLfIK7aLkxS"
      },
      "execution_count": 18,
      "outputs": []
    },
    {
      "cell_type": "markdown",
      "source": [
        "Create a Graph class, which contains both cost and pheromone information"
      ],
      "metadata": {
        "id": "zvrcTcVcLmhm"
      }
    },
    {
      "cell_type": "code",
      "source": [
        "class Graph(object):\n",
        "    def __init__(self, distance: list, matrixSize: int):\n",
        "        self.matrix = distance\n",
        "        self.matrixSize = matrixSize\n",
        "        self.pheromone = [[INITIAL_PHEROMONE_VALUE for j in range(matrixSize)] for i in range(matrixSize)]"
      ],
      "metadata": {
        "id": "1k6ILsw0L0sp"
      },
      "execution_count": 19,
      "outputs": []
    },
    {
      "cell_type": "markdown",
      "source": [
        "Define the Ant Colony class"
      ],
      "metadata": {
        "id": "INB9WTqdNYKK"
      }
    },
    {
      "cell_type": "code",
      "source": [
        "class ACO(object):\n",
        "    def __init__(self, numberOfAnts: int, generations: int, pheromoneWeight: float, distanceWeight: float, evaporation: float, pheromoneIntensity: int):\n",
        "        self.pheromoneIntensity = pheromoneIntensity\n",
        "        self.evaporation = evaporation\n",
        "        self.distanceWeight = distanceWeight\n",
        "        self.pheromoneWeight = pheromoneWeight\n",
        "        self.numberOfAnts = numberOfAnts\n",
        "        self.generations = generations\n",
        "\n",
        "    def updatePheromone(self, graph: Graph, ants: list):\n",
        "        for i, row in enumerate(graph.pheromone):\n",
        "            for j, col in enumerate(row):\n",
        "                graph.pheromone[i][j] *= self.evaporation # All of the paths evaporate over time\n",
        "                for ant in ants:\n",
        "                    graph.pheromone[i][j] += ant.localAntPheromone[i][j] # Update the pheromone information based on the information of each ant\n",
        "\n",
        "    def solve(self, graph: Graph):\n",
        "        bestCost = float('inf') # Set the best path distance to infinity\n",
        "        bestSolution = []\n",
        "        for gen in range(self.generations): # For each generation create a new set of ants\n",
        "            ants = [Ant(self, graph) for i in range(self.numberOfAnts)]\n",
        "            for ant in ants:\n",
        "                for i in range(graph.matrixSize - 1):\n",
        "                    ant.selectNext() # Each ant moves through the graph to create a possible solution\n",
        "                ant.totalCost += graph.matrix[ant.visitedCities[-1]][ant.visitedCities[0]]\n",
        "                if ant.totalCost < bestCost:\n",
        "                    bestCost = ant.totalCost\n",
        "                    bestSolution = [] + ant.visitedCities\n",
        "\n",
        "                ant.updateLocalPheromone()\n",
        "            self.updatePheromone(graph, ants) # the pheromone levels on the edges are updated\n",
        "        return bestCost, bestSolution"
      ],
      "metadata": {
        "id": "WxYSN2bFNh83"
      },
      "execution_count": 20,
      "outputs": []
    },
    {
      "cell_type": "markdown",
      "source": [
        "Define the Ant Class"
      ],
      "metadata": {
        "id": "9r5hKbOLQcgl"
      }
    },
    {
      "cell_type": "code",
      "source": [
        "class Ant(object):\n",
        "    def __init__(self, aco: ACO, graph: Graph):\n",
        "        self.colony = aco\n",
        "        self.graph = graph\n",
        "        self.totalCost = 0.0\n",
        "        self.visitedCities = []  # List of visited cities\n",
        "        self.localAntPheromone = []  # the local increase of pheromone\n",
        "        self.allowedCities = [i for i in range(graph.matrixSize)]  # nodes which are allowed for the next selection\n",
        "        self.costMatrix = [[0 if i == j else 1 / graph.matrix[i][j] for j in range(graph.matrixSize)] for i in\n",
        "                    range(graph.matrixSize)]  # heuristic information\n",
        "        start = random.randint(0, graph.matrixSize - 1)  # start from any node\n",
        "        self.visitedCities.append(start)\n",
        "        self.current = start\n",
        "        self.allowedCities.remove(start)\n",
        "\n",
        "    def selectNext(self):\n",
        "        summedWeight = 0\n",
        "        # Sum the whole weight of all unvisited cities\n",
        "        for i in self.allowedCities:\n",
        "            summedWeight += self.graph.pheromone[self.current][i] ** self.colony.pheromoneWeight * self.costMatrix[self.current][\n",
        "                                                                                            i] ** self.colony.distanceWeight\n",
        "        probabilities = [0 for i in range(self.graph.matrixSize)]  # probabilities for moving to a node in the next step\n",
        "        for i in range(self.graph.matrixSize):\n",
        "          if i in self.allowedCities:\n",
        "                    # Calculate the probability of each city to be visited next\n",
        "            probabilities[i] = self.graph.pheromone[self.current][i] ** self.colony.pheromoneWeight * \\\n",
        "                    self.costMatrix[self.current][i] ** self.colony.distanceWeight / summedWeight\n",
        "\n",
        "        # Randomly select a city\n",
        "        selected = 0\n",
        "        rand = random.random()\n",
        "\n",
        "        # For higher probability it is more likely to be selected\n",
        "        for i, probability in enumerate(probabilities):\n",
        "          rand -= probability\n",
        "\n",
        "          if rand <= 0:\n",
        "            selected = i\n",
        "            break\n",
        "        self.allowedCities.remove(selected)\n",
        "        self.visitedCities.append(selected)\n",
        "        self.totalCost += self.graph.matrix[self.current][selected]\n",
        "        self.current = selected\n",
        "\n",
        "    def updateLocalPheromone(self):\n",
        "        self.localAntPheromone = [[0 for j in range(self.graph.matrixSize)] for i in range(self.graph.matrixSize)]\n",
        "        for _ in range(1, len(self.visitedCities)):\n",
        "            i = self.visitedCities[_ - 1]\n",
        "            j = self.visitedCities[_]\n",
        "            self.localAntPheromone[i][j] = self.colony.pheromoneIntensity"
      ],
      "metadata": {
        "id": "UcgsnMqvQevq"
      },
      "execution_count": 21,
      "outputs": []
    },
    {
      "cell_type": "markdown",
      "source": [
        "Plot Method for visualization"
      ],
      "metadata": {
        "id": "go6S-92CYNPK"
      }
    },
    {
      "cell_type": "code",
      "source": [
        "def plot(points, path: list):\n",
        "    x = []\n",
        "    y = []\n",
        "    for point in points:\n",
        "        x.append(point[0])\n",
        "        y.append(point[1])\n",
        "    plt.plot(x, y, 'co')\n",
        "    for i in range (0, len(path)):\n",
        "        plt.annotate(i, (x[i], y[i]))\n",
        "    for _ in range(1, len(path)):\n",
        "        i = path[_ - 1]\n",
        "        j = path[_]\n",
        "        plt.arrow(x[i], y[i], x[j] - x[i], y[j] - y[i], color='r', length_includes_head=True)\n",
        "\n",
        "    plt.show()"
      ],
      "metadata": {
        "id": "5eDThwogYU1S"
      },
      "execution_count": 22,
      "outputs": []
    },
    {
      "cell_type": "markdown",
      "source": [
        "Method for calculating the distance between the cities"
      ],
      "metadata": {
        "id": "xZ_5mZvyYVil"
      }
    },
    {
      "cell_type": "code",
      "source": [
        "def distance(city1: dict, city2: dict):\n",
        "    return math.sqrt((city1['x'] - city2['x']) ** 2 + (city1['y'] - city2['y']) ** 2)"
      ],
      "metadata": {
        "id": "LNJfIkxRYZnn"
      },
      "execution_count": 23,
      "outputs": []
    },
    {
      "cell_type": "markdown",
      "source": [
        "Main method\n"
      ],
      "metadata": {
        "id": "m5kWd-w3YoSL"
      }
    },
    {
      "cell_type": "code",
      "source": [
        "def main():\n",
        "    cities = []\n",
        "    points = []\n",
        "    with open('./chn31.txt') as f:\n",
        "        for line in f.readlines():\n",
        "            city = line.split(' ')\n",
        "            cities.append(dict(index=int(city[0]), x=int(city[1]), y=int(city[2])))\n",
        "            points.append((int(city[1]), int(city[2])))\n",
        "    distanceMatrix = []\n",
        "    matrixSize = len(cities)\n",
        "    for i in range(matrixSize):\n",
        "        row = []\n",
        "        for j in range(matrixSize):\n",
        "            row.append(distance(cities[i], cities[j]))\n",
        "        distanceMatrix.append(row)\n",
        "    #Here we save the distances and then we will get the inverted values\n",
        "    aco = ACO(100, 100, 1.0, 10.0, 0.5, 1)\n",
        "    graph = Graph(distanceMatrix, matrixSize)\n",
        "    cost, path = aco.solve(graph)\n",
        "    print('cost: {}, path: {}'.format(cost, path))\n",
        "    plot(points, path)\n",
        "\n",
        "if __name__ == '__main__':\n",
        "    main()"
      ],
      "metadata": {
        "colab": {
          "base_uri": "https://localhost:8080/",
          "height": 447
        },
        "id": "TiU1Z3aRYroY",
        "outputId": "1553fea3-c0ba-4ee2-b6be-e051eb6d4044"
      },
      "execution_count": 24,
      "outputs": [
        {
          "output_type": "stream",
          "name": "stdout",
          "text": [
            "cost: 15601.919532918737, path: [14, 13, 11, 12, 10, 22, 15, 4, 5, 6, 1, 3, 7, 8, 9, 2, 17, 16, 18, 23, 24, 19, 20, 21, 25, 27, 26, 29, 30, 28, 0]\n"
          ]
        },
        {
          "output_type": "display_data",
          "data": {
            "text/plain": [
              "<Figure size 640x480 with 1 Axes>"
            ],
            "image/png": "[encoded data removed]"
          },
          "metadata": {}
        }
      ]
    }
  ]
}